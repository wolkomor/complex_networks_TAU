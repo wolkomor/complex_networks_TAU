{
 "cells": [
  {
   "cell_type": "code",
   "execution_count": 1,
   "metadata": {},
   "outputs": [],
   "source": [
    "import numpy as np\n",
    "import pandas as pd"
   ]
  },
  {
   "cell_type": "code",
   "execution_count": 3,
   "metadata": {},
   "outputs": [
    {
     "data": {
      "text/html": [
       "<div>\n",
       "<style scoped>\n",
       "    .dataframe tbody tr th:only-of-type {\n",
       "        vertical-align: middle;\n",
       "    }\n",
       "\n",
       "    .dataframe tbody tr th {\n",
       "        vertical-align: top;\n",
       "    }\n",
       "\n",
       "    .dataframe thead th {\n",
       "        text-align: right;\n",
       "    }\n",
       "</style>\n",
       "<table border=\"1\" class=\"dataframe\">\n",
       "  <thead>\n",
       "    <tr style=\"text-align: right;\">\n",
       "      <th></th>\n",
       "      <th>user</th>\n",
       "      <th>rating</th>\n",
       "      <th>date</th>\n",
       "      <th>movie</th>\n",
       "    </tr>\n",
       "  </thead>\n",
       "  <tbody>\n",
       "    <tr>\n",
       "      <th>0</th>\n",
       "      <td>2385003</td>\n",
       "      <td>4.0</td>\n",
       "      <td>2004-07-08</td>\n",
       "      <td>13368</td>\n",
       "    </tr>\n",
       "    <tr>\n",
       "      <th>1</th>\n",
       "      <td>659432</td>\n",
       "      <td>3.0</td>\n",
       "      <td>2005-03-16</td>\n",
       "      <td>13368</td>\n",
       "    </tr>\n",
       "    <tr>\n",
       "      <th>2</th>\n",
       "      <td>751812</td>\n",
       "      <td>2.0</td>\n",
       "      <td>2002-12-16</td>\n",
       "      <td>13368</td>\n",
       "    </tr>\n",
       "    <tr>\n",
       "      <th>3</th>\n",
       "      <td>2625420</td>\n",
       "      <td>2.0</td>\n",
       "      <td>2004-05-25</td>\n",
       "      <td>13368</td>\n",
       "    </tr>\n",
       "    <tr>\n",
       "      <th>4</th>\n",
       "      <td>1650301</td>\n",
       "      <td>1.0</td>\n",
       "      <td>2005-08-30</td>\n",
       "      <td>13368</td>\n",
       "    </tr>\n",
       "  </tbody>\n",
       "</table>\n",
       "</div>"
      ],
      "text/plain": [
       "      user  rating        date  movie\n",
       "0  2385003     4.0  2004-07-08  13368\n",
       "1   659432     3.0  2005-03-16  13368\n",
       "2   751812     2.0  2002-12-16  13368\n",
       "3  2625420     2.0  2004-05-25  13368\n",
       "4  1650301     1.0  2005-08-30  13368"
      ]
     },
     "metadata": {},
     "output_type": "display_data"
    },
    {
     "data": {
      "text/plain": [
       "(26847523, 4)"
      ]
     },
     "metadata": {},
     "output_type": "display_data"
    },
    {
     "name": "stdout",
     "output_type": "stream",
     "text": [
      "# of movies: \n"
     ]
    },
    {
     "data": {
      "text/plain": [
       "(4403,)"
      ]
     },
     "metadata": {},
     "output_type": "display_data"
    }
   ],
   "source": [
    "data = pd.read_csv('all_data_organized.csv')\n",
    "display(data.head())\n",
    "display(data.shape) \n",
    "print ('# of movies: ')\n",
    "display(data['movie'].value_counts().shape)"
   ]
  },
  {
   "cell_type": "markdown",
   "metadata": {},
   "source": [
    "# Create a sample"
   ]
  },
  {
   "cell_type": "code",
   "execution_count": 31,
   "metadata": {},
   "outputs": [
    {
     "name": "stdout",
     "output_type": "stream",
     "text": [
      "sample shape: \n"
     ]
    },
    {
     "data": {
      "text/plain": [
       "(12696087, 4)"
      ]
     },
     "metadata": {},
     "output_type": "display_data"
    },
    {
     "name": "stdout",
     "output_type": "stream",
     "text": [
      "# of movies: \n"
     ]
    },
    {
     "data": {
      "text/plain": [
       "(4402,)"
      ]
     },
     "metadata": {},
     "output_type": "display_data"
    },
    {
     "data": {
      "text/plain": [
       "(475601,)"
      ]
     },
     "metadata": {},
     "output_type": "display_data"
    },
    {
     "name": "stdout",
     "output_type": "stream",
     "text": [
      "# of users: \n"
     ]
    },
    {
     "data": {
      "text/plain": [
       "(100000,)"
      ]
     },
     "metadata": {},
     "output_type": "display_data"
    }
   ],
   "source": [
    "number_of_users = 25000\n",
    "probabilites = data['user'].value_counts()/data.shape[0]\n",
    "users_sample = np.random.choice(probabilites.index.values, number_of_users, replace=False, p= probabilites)\n",
    "sample = data[data.user.isin(users_sample)]\n",
    "print ('sample shape: ')\n",
    "display(sample.shape)\n",
    "print ('# of movies: ')\n",
    "display(sample['movie'].value_counts().shape)\n",
    "display(data['user'].value_counts().shape)\n",
    "print ('# of users: ')\n",
    "display(sample['user'].value_counts().shape)"
   ]
  },
  {
   "cell_type": "code",
   "execution_count": 9,
   "metadata": {},
   "outputs": [],
   "source": [
    "sample.to_csv('25k_users_sample.csv', index = False)"
   ]
  }
 ],
 "metadata": {
  "kernelspec": {
   "display_name": "Python 2",
   "language": "python",
   "name": "python2"
  },
  "language_info": {
   "codemirror_mode": {
    "name": "ipython",
    "version": 2
   },
   "file_extension": ".py",
   "mimetype": "text/x-python",
   "name": "python",
   "nbconvert_exporter": "python",
   "pygments_lexer": "ipython2",
   "version": "2.7.15"
  }
 },
 "nbformat": 4,
 "nbformat_minor": 2
}
